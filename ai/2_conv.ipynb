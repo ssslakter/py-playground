{
 "cells": [
  {
   "cell_type": "code",
   "execution_count": null,
   "metadata": {},
   "outputs": [],
   "source": [
    "from datasets import load_dataset,  ClassLabel\n",
    "import torch\n",
    "import torchvision.transforms.v2 as T\n",
    "from classes import i2d\n",
    "from fastai.vision.all import *"
   ]
  },
  {
   "cell_type": "code",
   "execution_count": null,
   "metadata": {},
   "outputs": [],
   "source": [
    "ds = load_dataset(\"zh-plus/tiny-imagenet\", split=\"train\", trust_remote_code=True)\n",
    "ds._info.features['label'] = ClassLabel(names = list(map(i2d.get,ds.features['label'].names)))"
   ]
  }
 ],
 "metadata": {
  "kernelspec": {
   "display_name": "venv",
   "language": "python",
   "name": "python3"
  },
  "language_info": {
   "name": "python",
   "version": "3.11.5"
  }
 },
 "nbformat": 4,
 "nbformat_minor": 2
}
