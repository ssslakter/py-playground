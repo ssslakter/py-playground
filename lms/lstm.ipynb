{
 "cells": [
  {
   "cell_type": "code",
   "execution_count": null,
   "metadata": {},
   "outputs": [],
   "source": [
    "from pathlib import Path\n",
    "import kagglehub\n",
    "import pandas as pd\n",
    "import numpy as np\n",
    "import torch\n",
    "import torch.optim as optim\n",
    "import torch.nn.functional as F\n",
    "from torch.utils.data import DataLoader\n",
    "import torch.nn as nn\n",
    "from tokenizers import Tokenizer\n",
    "from tokenizers.models import BPE\n",
    "from tokenizers.trainers import BpeTrainer\n",
    "from schedulefree import AdamWScheduleFree\n",
    "from tqdm.auto import tqdm\n",
    "from fastprogress import master_bar, progress_bar\n"
   ]
  },
  {
   "cell_type": "code",
   "execution_count": null,
   "metadata": {},
   "outputs": [],
   "source": [
    "path = kagglehub.dataset_download(\"vsevolodbogodist/data-jokes\")\n",
    "path = Path(path)"
   ]
  },
  {
   "cell_type": "code",
   "execution_count": null,
   "metadata": {},
   "outputs": [],
   "source": [
    "data = pd.read_csv(path / 'dataset.csv')\n",
    "data.head()"
   ]
  },
  {
   "cell_type": "code",
   "execution_count": null,
   "metadata": {},
   "outputs": [
    {
     "data": {
      "text/plain": [
       "(150553, 1)"
      ]
     },
     "execution_count": null,
     "metadata": {},
     "output_type": "execute_result"
    }
   ],
   "source": [
    "data.shape"
   ]
  },
  {
   "cell_type": "code",
   "execution_count": null,
   "metadata": {},
   "outputs": [],
   "source": [
    "data.text = data.text + '<end>'"
   ]
  },
  {
   "cell_type": "code",
   "execution_count": null,
   "metadata": {},
   "outputs": [],
   "source": [
    "if Path(\"tokenizer.json\").exists():\n",
    "    tokenizer = Tokenizer.from_file(\"tokenizer.json\")\n",
    "else:    \n",
    "    tokenizer = Tokenizer(BPE())\n",
    "    trainer = BpeTrainer(vocab_size=100, special_tokens=[\"<end>\"])\n",
    "    tokenizer.train_from_iterator(data.text, trainer)\n",
    "    tokenizer.save(\"tokenizer.json\")"
   ]
  },
  {
   "cell_type": "code",
   "execution_count": null,
   "metadata": {},
   "outputs": [],
   "source": [
    "def encode(batch, max_length=128):\n",
    "    items = [torch.tensor(t.ids[:min(len(t.ids), max_length)]) for t in tokenizer.encode_batch_fast(batch)]\n",
    "    return torch.nn.utils.rnn.pad_sequence(items, batch_first=True)\n",
    "\n",
    "\n",
    "def get_xy(x: torch.Tensor):\n",
    "    return x[:, :-1], x[:, 1:]"
   ]
  },
  {
   "cell_type": "code",
   "execution_count": null,
   "metadata": {},
   "outputs": [],
   "source": [
    "class Lambda(nn.Module):\n",
    "    def __init__(self, func):\n",
    "        super().__init__()\n",
    "        self.func = func\n",
    "\n",
    "    def forward(self, x): return self.func(x)"
   ]
  },
  {
   "cell_type": "code",
   "execution_count": null,
   "metadata": {},
   "outputs": [],
   "source": [
    "model_d = 256\n",
    "embed_size = 16"
   ]
  },
  {
   "cell_type": "code",
   "execution_count": null,
   "metadata": {},
   "outputs": [],
   "source": [
    "n_vocab = tokenizer.get_vocab_size()\n",
    "\n",
    "# since pickle can't work with lambdas\n",
    "def f(x): return x[0]\n",
    "model = nn.Sequential(\n",
    "    nn.Embedding(n_vocab, embed_size),\n",
    "    nn.LSTM(\n",
    "        input_size=embed_size,\n",
    "        hidden_size=model_d,\n",
    "        num_layers=2,\n",
    "        batch_first=True,\n",
    "        dropout=0.2),\n",
    "    Lambda(f),\n",
    "    nn.Dropout(0.2),\n",
    "    nn.Linear(model_d, n_vocab),\n",
    ")"
   ]
  },
  {
   "cell_type": "code",
   "execution_count": null,
   "metadata": {},
   "outputs": [],
   "source": [
    "loader = DataLoader(data.text, batch_size=64)"
   ]
  },
  {
   "cell_type": "code",
   "execution_count": null,
   "metadata": {},
   "outputs": [],
   "source": [
    "from fastprogress import progress_bar, master_bar\n",
    "\n",
    "\n",
    "def plot_loss_update(step, total_steps, mb, train_loss):\n",
    "    \"\"\" dynamically print the loss plot during the training/validation loop.\n",
    "        expects epoch to start from 1.\n",
    "    \"\"\"\n",
    "    x = range(1, step + 1)\n",
    "    y = train_loss\n",
    "    graphs = [[x, train_loss],]\n",
    "    x_margin = 0.2\n",
    "    y_margin = 0.05\n",
    "    x_bounds = [1 - x_margin, min(total_steps, step) + x_margin]\n",
    "    y_bounds = [np.min(y) - y_margin, np.max(y) + y_margin]\n",
    "    mb.update_graph(graphs, x_bounds, y_bounds)"
   ]
  },
  {
   "cell_type": "code",
   "execution_count": null,
   "metadata": {},
   "outputs": [
    {
     "data": {
      "text/html": [
       "\n",
       "<style>\n",
       "    /* Turns off some styling */\n",
       "    progress {\n",
       "        /* gets rid of default border in Firefox and Opera. */\n",
       "        border: none;\n",
       "        /* Needs to be in here for Safari polyfill so background images work as expected. */\n",
       "        background-size: auto;\n",
       "    }\n",
       "    progress:not([value]), progress:not([value])::-webkit-progress-bar {\n",
       "        background: repeating-linear-gradient(45deg, #7e7e7e, #7e7e7e 10px, #5c5c5c 10px, #5c5c5c 20px);\n",
       "    }\n",
       "    .progress-bar-interrupted, .progress-bar-interrupted::-webkit-progress-bar {\n",
       "        background: #F44336;\n",
       "    }\n",
       "</style>\n"
      ],
      "text/plain": [
       "<IPython.core.display.HTML object>"
      ]
     },
     "metadata": {},
     "output_type": "display_data"
    },
    {
     "data": {
      "text/html": [
       "Epoch 0: Cross-entropy: 3548.4509<p>Epoch 1: Cross-entropy: 3095.1064<p>Epoch 2: Cross-entropy: 2904.2295<p>Epoch 3: Cross-entropy: 2800.4763<p>Epoch 4: Cross-entropy: 2737.3074<p>Epoch 5: Cross-entropy: 2691.8206<p>Epoch 6: Cross-entropy: 2657.0486<p>Epoch 7: Cross-entropy: 2632.9419<p>Epoch 8: Cross-entropy: 2610.2388<p>Epoch 9: Cross-entropy: 2592.3474"
      ],
      "text/plain": [
       "<IPython.core.display.HTML object>"
      ]
     },
     "metadata": {},
     "output_type": "display_data"
    },
    {
     "data": {
      "image/png": "[encoded data removed]",
      "text/plain": [
       "<Figure size 600x400 with 1 Axes>"
      ]
     },
     "metadata": {},
     "output_type": "display_data"
    }
   ],
   "source": [
    "n_epochs = 10\n",
    "\n",
    "optimizer = torch.optim.Adam(model.parameters(), lr=1e-3)\n",
    "model = model.cuda()\n",
    "device = torch.device(\"cuda\")\n",
    "\n",
    "mb = master_bar(range(n_epochs))\n",
    "total_steps = len(loader) * n_epochs\n",
    "step, losses = 1, []\n",
    "for epoch in mb:\n",
    "    model.train()\n",
    "    if hasattr(optimizer, 'train'): optimizer.train()\n",
    "    for xb in progress_bar(loader, parent=mb):\n",
    "        xb, yb = get_xy(encode(xb).to(device))\n",
    "        y_pred = model(xb)\n",
    "        loss = F.cross_entropy(y_pred.view(-1, n_vocab), yb.to(device).flatten())\n",
    "        optimizer.zero_grad()\n",
    "        loss.backward()\n",
    "        optimizer.step()\n",
    "        losses.append(loss.item())\n",
    "        mb.child.comment = f\"loss: {loss.item():.2f}\"\n",
    "        plot_loss_update(step, total_steps, mb, losses)\n",
    "        step += 1\n",
    "    # Validation\n",
    "    model.eval()\n",
    "    loss = 0\n",
    "    with torch.no_grad():\n",
    "        for xb in loader:\n",
    "            xb, yb = get_xy(encode(xb).to(device))\n",
    "            y_pred = model(xb)\n",
    "            loss += F.cross_entropy(y_pred.view(-1, n_vocab), yb.flatten())\n",
    "        mb.write(f\"Epoch {epoch}: Cross-entropy: {loss:.4f}\")"
   ]
  },
  {
   "cell_type": "code",
   "execution_count": null,
   "metadata": {},
   "outputs": [],
   "source": [
    "# torch.save(model, \"lstm.pth\")"
   ]
  },
  {
   "cell_type": "code",
   "execution_count": null,
   "metadata": {},
   "outputs": [],
   "source": [
    "model = torch.load(\"lstm.pth\")"
   ]
  },
  {
   "cell_type": "code",
   "execution_count": null,
   "metadata": {},
   "outputs": [],
   "source": [
    "def decode(seq):\n",
    "    s = ''\n",
    "    for el in seq:\n",
    "        res = tokenizer.decode([el])\n",
    "        if res == '<end>': break\n",
    "        s += res\n",
    "    return s\n",
    "        \n",
    "\n",
    "\n",
    "def generate(prefixes: list[str]):\n",
    "    inp = encode(prefixes).cuda()  # (bs, seq_len)\n",
    "    for _ in range(100):\n",
    "        with torch.no_grad():\n",
    "            logits = model(inp)[:, -1]  # (bs, vocab_size) - last token\n",
    "            probs = torch.softmax(logits, dim=-1)\n",
    "            sample = torch.multinomial(probs, num_samples=1).type(torch.long)  # (bs, 1)\n",
    "            inp = torch.cat((inp, sample), dim=1)\n",
    "\n",
    "    return [decode(x) for x in inp.tolist()]"
   ]
  }
 ],
 "metadata": {
  "kernelspec": {
   "display_name": "python3",
   "language": "python",
   "name": "python3"
  }
 },
 "nbformat": 4,
 "nbformat_minor": 2
}
